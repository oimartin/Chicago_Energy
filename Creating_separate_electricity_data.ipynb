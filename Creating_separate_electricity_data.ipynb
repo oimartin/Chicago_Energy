{
 "cells": [
  {
   "cell_type": "code",
   "execution_count": 1,
   "metadata": {},
   "outputs": [],
   "source": [
    "# Dependencies\n",
    "import pandas as pd"
   ]
  },
  {
   "cell_type": "code",
   "execution_count": 4,
   "metadata": {},
   "outputs": [],
   "source": [
    "# Energy csv import\n",
    "energy_file = \"Energy_Usage_2010.csv\"\n",
    "energy_df = pd.read_csv(energy_file)"
   ]
  },
  {
   "cell_type": "code",
   "execution_count": 5,
   "metadata": {},
   "outputs": [],
   "source": [
    "# Create separate dataframe to house electricity data\n",
    "\n",
    "electricity_df = energy_df[['COMMUNITY AREA NAME', 'BUILDING TYPE',\n",
    "                            'BUILDING_SUBTYPE', 'KWH JANUARY 2010',\n",
    "                            'KWH FEBRUARY 2010', 'KWH MARCH 2010',\n",
    "                            'KWH APRIL 2010', 'KWH MAY 2010',\n",
    "                            'KWH JUNE 2010', 'KWH JULY 2010',\n",
    "                            'KWH AUGUST 2010', 'KWH SEPTEMBER 2010',\n",
    "                            'KWH OCTOBER 2010', 'KWH NOVEMBER 2010',\n",
    "                            'KWH DECEMBER 2010', 'TOTAL KWH',\n",
    "                            'ELECTRICITY ACCOUNTS', 'ZERO KWH ACCOUNTS',\n",
    "                            'KWH TOTAL SQFT', 'KWH MEAN 2010',\n",
    "                            'KWH STANDARD DEVIATION 2010', 'KWH MINIMUM 2010',\n",
    "                            'KWH MAXIMUM 2010', 'KWH 1ST QUARTILE 2010', \n",
    "                            'KWH 2ND QUARTILE 2010', 'KWH 3RD QUARTILE 2010', \n",
    "                            'AVERAGE HOUSESIZE', 'OCCUPIED UNITS',\n",
    "                            'OCCUPIED UNITS PERCENTAGE', 'RENTER-OCCUPIED HOUSING UNITS',\n",
    "                            'RENTER-OCCUPIED HOUSING PERCENTAGE', 'OCCUPIED HOUSING UNITS',\n",
    "                            'TOTAL POPULATION']]\n",
    "\n",
    "# Check electricity_df\n",
    "electricity_df.head()\n",
    "\n",
    "# Save separate csv file of electricity data\n",
    "electricity_df.to_csv(\"Electricity_Only_some_Housing.csv\")"
   ]
  },
  {
   "cell_type": "code",
   "execution_count": null,
   "metadata": {},
   "outputs": [],
   "source": []
  }
 ],
 "metadata": {
  "kernelspec": {
   "display_name": "Python 3",
   "language": "python",
   "name": "python3"
  },
  "language_info": {
   "codemirror_mode": {
    "name": "ipython",
    "version": 3
   },
   "file_extension": ".py",
   "mimetype": "text/x-python",
   "name": "python",
   "nbconvert_exporter": "python",
   "pygments_lexer": "ipython3",
   "version": "3.7.0"
  }
 },
 "nbformat": 4,
 "nbformat_minor": 2
}
